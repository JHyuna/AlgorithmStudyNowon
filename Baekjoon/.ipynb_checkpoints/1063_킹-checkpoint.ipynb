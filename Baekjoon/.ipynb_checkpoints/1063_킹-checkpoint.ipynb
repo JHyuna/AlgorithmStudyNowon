{
 "cells": [
  {
   "cell_type": "markdown",
   "metadata": {},
   "source": [
    "# 킹 (1063)"
   ]
  },
  {
   "cell_type": "code",
   "execution_count": 14,
   "metadata": {},
   "outputs": [
    {
     "name": "stdin",
     "output_type": "stream",
     "text": [
      " A3 H1 5\n",
      " B\n",
      " L\n",
      " LB\n",
      " RB\n",
      " LT\n"
     ]
    },
    {
     "name": "stdout",
     "output_type": "stream",
     "text": [
      "(1, 3) (8, 1) 5\n",
      "moving list : ['B', 'L', 'LB', 'RB', 'LT']\n",
      "A2\n",
      "H1\n"
     ]
    }
   ],
   "source": [
    "import string\n",
    "\n",
    "king, stone, moving = input().split()\n",
    "king = string.ascii_uppercase.index(king[0])+1,int(king[1]) \n",
    "stone = string.ascii_uppercase.index(stone[0])+1,int(stone[1])\n",
    "moving_list = [input() for _ in range(int(moving))]\n",
    "\n",
    "transfer = {'R':(1,0),'L':(-1,0),'B':(0,-1),'T':(0,1),\n",
    "                 'RT':(1,1),'LT':(-1,1),'RB':(1,-1),'LB':(-1,-1)}\n",
    "\n",
    "for key in moving_list:\n",
    "    moved_king = tuple(sum(e) for e in zip(king,transfer[key]))\n",
    "    \n",
    "    if not (0<moved_king[0]<9 and 0<moved_king[1]<9):\n",
    "        continue\n",
    "    if moved_king == stone:\n",
    "        moved_stone = tuple(sum(e) for e in zip(stone,transfer[key])) \n",
    "        \n",
    "        if not (0<moved_stone[0]<9 and 0<moved_stone[1]<9):\n",
    "            continue\n",
    "        king, stone = moved_king, moved_stone\n",
    "    else:\n",
    "        king = moved_king\n",
    "\n",
    "print(string.ascii_uppercase[king[0]-1] + str(king[1]) )\n",
    "print(string.ascii_uppercase[stone[0]-1] + str(stone[1]) )"
   ]
  }
 ],
 "metadata": {
  "kernelspec": {
   "display_name": "Python 3",
   "language": "python",
   "name": "python3"
  },
  "language_info": {
   "codemirror_mode": {
    "name": "ipython",
    "version": 3
   },
   "file_extension": ".py",
   "mimetype": "text/x-python",
   "name": "python",
   "nbconvert_exporter": "python",
   "pygments_lexer": "ipython3",
   "version": "3.7.4"
  }
 },
 "nbformat": 4,
 "nbformat_minor": 4
}
