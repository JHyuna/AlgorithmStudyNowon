{
 "cells": [
  {
   "cell_type": "markdown",
   "metadata": {},
   "source": [
    "# 팰린드롭만들기 (1213)"
   ]
  },
  {
   "cell_type": "code",
   "execution_count": 84,
   "metadata": {},
   "outputs": [
    {
     "name": "stdin",
     "output_type": "stream",
     "text": [
      " AAABBB\n"
     ]
    },
    {
     "name": "stdout",
     "output_type": "stream",
     "text": [
      "I'm Sorry Hansoo\n"
     ]
    }
   ],
   "source": [
    "from collections import Counter, deque\n",
    "deq = deque()\n",
    "count_dict = Counter(sorted(list(input()), reverse=True))\n",
    "count_list = count_dict.values()\n",
    "odd_even = sum([e%2 for e in count_list])\n",
    "\n",
    "if odd_even > 1 :\n",
    "    print(\"I'm Sorry Hansoo\")\n",
    "    \n",
    "else:\n",
    "    for k,v in count_dict.items():\n",
    "        if v%2 == 0:\n",
    "            for _ in range(v//2):\n",
    "                deq.appendleft(k)\n",
    "                deq.append(k)\n",
    "        else:\n",
    "            i = k # 홀수개인 문자를 기억해놓기!\n",
    "            for _ in range((v-1)//2):\n",
    "                deq.appendleft(k)\n",
    "                deq.append(k)\n",
    "            deq.insert(len(deq)//2, i)\n",
    "    str_list = [str(e) for e in deq]\n",
    "    print(''.join(str_list))\n"
   ]
  }
 ],
 "metadata": {
  "kernelspec": {
   "display_name": "Python 3",
   "language": "python",
   "name": "python3"
  },
  "language_info": {
   "codemirror_mode": {
    "name": "ipython",
    "version": 3
   },
   "file_extension": ".py",
   "mimetype": "text/x-python",
   "name": "python",
   "nbconvert_exporter": "python",
   "pygments_lexer": "ipython3",
   "version": "3.7.4"
  }
 },
 "nbformat": 4,
 "nbformat_minor": 4
}
