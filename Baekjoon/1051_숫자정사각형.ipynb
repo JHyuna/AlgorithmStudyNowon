{
 "cells": [
  {
   "cell_type": "markdown",
   "metadata": {},
   "source": [
    "# 숫자 정사각형 (1051)"
   ]
  },
  {
   "cell_type": "code",
   "execution_count": 137,
   "metadata": {},
   "outputs": [
    {
     "name": "stdin",
     "output_type": "stream",
     "text": [
      " 3 8 42101010 22100001 22101111\n"
     ]
    },
    {
     "name": "stdout",
     "output_type": "stream",
     "text": [
      "{'1': [2, 4, 6], '0': [3, 5, 7]}\n",
      "{'2': [0, 1], '1': [2, 7], '0': [3, 4, 5, 6]}\n",
      "{'2': [0, 1], '1': [2, 4, 5, 6, 7]}\n"
     ]
    }
   ],
   "source": [
    "# 1st solution 하다가 중간에 포기함 \n",
    "m,n, m1, m2, m3 = input().split()\n",
    "\n",
    "from collections import Counter\n",
    "count_1, count_2, count_3 = map(Counter, (m1, m2, m3))\n",
    "\n",
    "def get_coor(mi, count_i):\n",
    "    coor = {}\n",
    "    for k,v in count_i.items():\n",
    "        if v >= 2:\n",
    "            coor[k] = list(filter(lambda x: mi[x] == k, range(len(mi))))\n",
    "    return coor\n",
    "\n",
    "coor1, coor2, coor3 = get_coor(m1, count_1), get_coor(m2, count_2), get_coor(m3, count_3)\n",
    "print(coor1)\n",
    "print(coor2)\n",
    "print(coor3)"
   ]
  },
  {
   "cell_type": "code",
   "execution_count": null,
   "metadata": {},
   "outputs": [],
   "source": [
    "# 2nd 제출한 solution\n",
    "n,m = map(int, input().split())\n",
    "Line = [input() for i in range(n)]\n",
    "l = 0\n",
    "for i in range(n) :\n",
    "    for j in range(m) :\n",
    "        for k in range(l,min(n,m)) :\n",
    "            if i+k >= n or j+k >= m : break\n",
    "            if Line[i][j] == Line[i+k][j+k] == Line[i][j+k] == Line[i+k][j] : l = k\n",
    "print((l+1)*(l+1))"
   ]
  }
 ],
 "metadata": {
  "kernelspec": {
   "display_name": "Python 3",
   "language": "python",
   "name": "python3"
  },
  "language_info": {
   "codemirror_mode": {
    "name": "ipython",
    "version": 3
   },
   "file_extension": ".py",
   "mimetype": "text/x-python",
   "name": "python",
   "nbconvert_exporter": "python",
   "pygments_lexer": "ipython3",
   "version": "3.7.4"
  }
 },
 "nbformat": 4,
 "nbformat_minor": 4
}
